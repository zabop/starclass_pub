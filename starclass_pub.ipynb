{
 "cells": [
  {
   "cell_type": "code",
   "execution_count": null,
   "metadata": {},
   "outputs": [],
   "source": [
    "import pyke\n",
    "import matplotlib.pyplot as plt\n",
    "from shutil import copyfile\n",
    "\n",
    "class star:\n",
    "\n",
    "    def __init__(self, path, name,definedaper=False):\n",
    "        self.path=path\n",
    "        self.name=name\n",
    "   \n",
    "        self.infile=path+name\n",
    "        self.maskout = self.infile+'_maskout'\n",
    "    \n",
    "    def aperdef(self):\n",
    "            plt.interactive(True)\n",
    "\n",
    "            %matplotlib\n",
    "            pyke.kepmask(self.infile)\n",
    "            \n",
    "            copyfile('maskfile.txt',self.maskout)\n",
    "        \n",
    "            \n",
    "    def loadaper(self):\n",
    "        with open('maskfile.txt') as f:\n",
    "            maskfile = f.read()\n",
    "        f.closed\n",
    "        cords=maskfile.split(\"|\")[5]\n",
    "        cordlist=cords.split(\";\")\n",
    "\n",
    "        cordlistmat=[]\n",
    "        for index, line in enumerate(cordlist):\n",
    "            cordlistmat.append(line.split(\",\"))\n",
    "            \n",
    "            \n",
    "def main():\n",
    "    ourstar = star('/home/pal/konkoly/go10037/','ktwo201085427-c101_lpd-targ.fits')\n",
    "    ourstar.aperdef() # WAIT HERE UNTIL MATPLOTLIB WINDOW CLOSED\n",
    "    \n",
    "    ourstar.loadaper()\n",
    "    \n",
    "    \n",
    "if __name__ == \"__main__\":\n",
    "    main()"
   ]
  }
 ],
 "metadata": {
  "kernelspec": {
   "display_name": "Python 3",
   "language": "python",
   "name": "python3"
  },
  "language_info": {
   "codemirror_mode": {
    "name": "ipython",
    "version": 3
   },
   "file_extension": ".py",
   "mimetype": "text/x-python",
   "name": "python",
   "nbconvert_exporter": "python",
   "pygments_lexer": "ipython3",
   "version": "3.6.5"
  }
 },
 "nbformat": 4,
 "nbformat_minor": 2
}
